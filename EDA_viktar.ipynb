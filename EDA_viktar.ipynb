{
 "cells": [
  {
   "cell_type": "code",
   "execution_count": 34,
   "id": "d9a9d754",
   "metadata": {},
   "outputs": [],
   "source": [
    "import pandas as pd\n",
    "import numpy as np\n",
    "import seaborn as sns\n",
    "import matplotlib.pyplot as plt\n",
    "\n",
    "from tanzania import Colors, save_png\n",
    "\n",
    "Colors.init_colors()\n"
   ]
  },
  {
   "cell_type": "code",
   "execution_count": 35,
   "id": "4a25529f",
   "metadata": {},
   "outputs": [
    {
     "data": {
      "text/html": [
       "<div>\n",
       "<style scoped>\n",
       "    .dataframe tbody tr th:only-of-type {\n",
       "        vertical-align: middle;\n",
       "    }\n",
       "\n",
       "    .dataframe tbody tr th {\n",
       "        vertical-align: top;\n",
       "    }\n",
       "\n",
       "    .dataframe thead th {\n",
       "        text-align: right;\n",
       "    }\n",
       "</style>\n",
       "<table border=\"1\" class=\"dataframe\">\n",
       "  <thead>\n",
       "    <tr style=\"text-align: right;\">\n",
       "      <th></th>\n",
       "      <th>ID</th>\n",
       "      <th>country</th>\n",
       "      <th>age_group</th>\n",
       "      <th>travel_with</th>\n",
       "      <th>total_female</th>\n",
       "      <th>total_male</th>\n",
       "      <th>purpose</th>\n",
       "      <th>main_activity</th>\n",
       "      <th>info_source</th>\n",
       "      <th>tour_arrangement</th>\n",
       "      <th>...</th>\n",
       "      <th>package_transport_tz</th>\n",
       "      <th>package_sightseeing</th>\n",
       "      <th>package_guided_tour</th>\n",
       "      <th>package_insurance</th>\n",
       "      <th>night_mainland</th>\n",
       "      <th>night_zanzibar</th>\n",
       "      <th>payment_mode</th>\n",
       "      <th>first_trip_tz</th>\n",
       "      <th>most_impressing</th>\n",
       "      <th>total_cost</th>\n",
       "    </tr>\n",
       "  </thead>\n",
       "  <tbody>\n",
       "    <tr>\n",
       "      <th>0</th>\n",
       "      <td>tour_0</td>\n",
       "      <td>SWIZERLAND</td>\n",
       "      <td>45-64</td>\n",
       "      <td>Friends/Relatives</td>\n",
       "      <td>1.0</td>\n",
       "      <td>1.0</td>\n",
       "      <td>Leisure and Holidays</td>\n",
       "      <td>Wildlife tourism</td>\n",
       "      <td>Friends, relatives</td>\n",
       "      <td>Independent</td>\n",
       "      <td>...</td>\n",
       "      <td>No</td>\n",
       "      <td>No</td>\n",
       "      <td>No</td>\n",
       "      <td>No</td>\n",
       "      <td>13.0</td>\n",
       "      <td>0.0</td>\n",
       "      <td>Cash</td>\n",
       "      <td>No</td>\n",
       "      <td>Friendly People</td>\n",
       "      <td>674602.5</td>\n",
       "    </tr>\n",
       "    <tr>\n",
       "      <th>1</th>\n",
       "      <td>tour_10</td>\n",
       "      <td>UNITED KINGDOM</td>\n",
       "      <td>25-44</td>\n",
       "      <td>NaN</td>\n",
       "      <td>1.0</td>\n",
       "      <td>0.0</td>\n",
       "      <td>Leisure and Holidays</td>\n",
       "      <td>Cultural tourism</td>\n",
       "      <td>others</td>\n",
       "      <td>Independent</td>\n",
       "      <td>...</td>\n",
       "      <td>No</td>\n",
       "      <td>No</td>\n",
       "      <td>No</td>\n",
       "      <td>No</td>\n",
       "      <td>14.0</td>\n",
       "      <td>7.0</td>\n",
       "      <td>Cash</td>\n",
       "      <td>Yes</td>\n",
       "      <td>Wonderful Country, Landscape, Nature</td>\n",
       "      <td>3214906.5</td>\n",
       "    </tr>\n",
       "    <tr>\n",
       "      <th>2</th>\n",
       "      <td>tour_1000</td>\n",
       "      <td>UNITED KINGDOM</td>\n",
       "      <td>25-44</td>\n",
       "      <td>Alone</td>\n",
       "      <td>0.0</td>\n",
       "      <td>1.0</td>\n",
       "      <td>Visiting Friends and Relatives</td>\n",
       "      <td>Cultural tourism</td>\n",
       "      <td>Friends, relatives</td>\n",
       "      <td>Independent</td>\n",
       "      <td>...</td>\n",
       "      <td>No</td>\n",
       "      <td>No</td>\n",
       "      <td>No</td>\n",
       "      <td>No</td>\n",
       "      <td>1.0</td>\n",
       "      <td>31.0</td>\n",
       "      <td>Cash</td>\n",
       "      <td>No</td>\n",
       "      <td>Excellent Experience</td>\n",
       "      <td>3315000.0</td>\n",
       "    </tr>\n",
       "    <tr>\n",
       "      <th>3</th>\n",
       "      <td>tour_1002</td>\n",
       "      <td>UNITED KINGDOM</td>\n",
       "      <td>25-44</td>\n",
       "      <td>Spouse</td>\n",
       "      <td>1.0</td>\n",
       "      <td>1.0</td>\n",
       "      <td>Leisure and Holidays</td>\n",
       "      <td>Wildlife tourism</td>\n",
       "      <td>Travel, agent, tour operator</td>\n",
       "      <td>Package Tour</td>\n",
       "      <td>...</td>\n",
       "      <td>Yes</td>\n",
       "      <td>Yes</td>\n",
       "      <td>Yes</td>\n",
       "      <td>No</td>\n",
       "      <td>11.0</td>\n",
       "      <td>0.0</td>\n",
       "      <td>Cash</td>\n",
       "      <td>Yes</td>\n",
       "      <td>Friendly People</td>\n",
       "      <td>7790250.0</td>\n",
       "    </tr>\n",
       "    <tr>\n",
       "      <th>4</th>\n",
       "      <td>tour_1004</td>\n",
       "      <td>CHINA</td>\n",
       "      <td>1-24</td>\n",
       "      <td>NaN</td>\n",
       "      <td>1.0</td>\n",
       "      <td>0.0</td>\n",
       "      <td>Leisure and Holidays</td>\n",
       "      <td>Wildlife tourism</td>\n",
       "      <td>Travel, agent, tour operator</td>\n",
       "      <td>Independent</td>\n",
       "      <td>...</td>\n",
       "      <td>No</td>\n",
       "      <td>No</td>\n",
       "      <td>No</td>\n",
       "      <td>No</td>\n",
       "      <td>7.0</td>\n",
       "      <td>4.0</td>\n",
       "      <td>Cash</td>\n",
       "      <td>Yes</td>\n",
       "      <td>No comments</td>\n",
       "      <td>1657500.0</td>\n",
       "    </tr>\n",
       "  </tbody>\n",
       "</table>\n",
       "<p>5 rows × 23 columns</p>\n",
       "</div>"
      ],
      "text/plain": [
       "          ID         country age_group        travel_with  total_female  \\\n",
       "0     tour_0      SWIZERLAND     45-64  Friends/Relatives           1.0   \n",
       "1    tour_10  UNITED KINGDOM     25-44                NaN           1.0   \n",
       "2  tour_1000  UNITED KINGDOM     25-44              Alone           0.0   \n",
       "3  tour_1002  UNITED KINGDOM     25-44             Spouse           1.0   \n",
       "4  tour_1004           CHINA      1-24                NaN           1.0   \n",
       "\n",
       "   total_male                         purpose     main_activity  \\\n",
       "0         1.0            Leisure and Holidays  Wildlife tourism   \n",
       "1         0.0            Leisure and Holidays  Cultural tourism   \n",
       "2         1.0  Visiting Friends and Relatives  Cultural tourism   \n",
       "3         1.0            Leisure and Holidays  Wildlife tourism   \n",
       "4         0.0            Leisure and Holidays  Wildlife tourism   \n",
       "\n",
       "                    info_source tour_arrangement  ... package_transport_tz  \\\n",
       "0            Friends, relatives      Independent  ...                   No   \n",
       "1                        others      Independent  ...                   No   \n",
       "2            Friends, relatives      Independent  ...                   No   \n",
       "3  Travel, agent, tour operator     Package Tour  ...                  Yes   \n",
       "4  Travel, agent, tour operator      Independent  ...                   No   \n",
       "\n",
       "  package_sightseeing package_guided_tour package_insurance night_mainland  \\\n",
       "0                  No                  No                No           13.0   \n",
       "1                  No                  No                No           14.0   \n",
       "2                  No                  No                No            1.0   \n",
       "3                 Yes                 Yes                No           11.0   \n",
       "4                  No                  No                No            7.0   \n",
       "\n",
       "  night_zanzibar payment_mode  first_trip_tz  \\\n",
       "0            0.0         Cash             No   \n",
       "1            7.0         Cash            Yes   \n",
       "2           31.0         Cash             No   \n",
       "3            0.0         Cash            Yes   \n",
       "4            4.0         Cash            Yes   \n",
       "\n",
       "                        most_impressing total_cost  \n",
       "0                       Friendly People   674602.5  \n",
       "1  Wonderful Country, Landscape, Nature  3214906.5  \n",
       "2                  Excellent Experience  3315000.0  \n",
       "3                       Friendly People  7790250.0  \n",
       "4                           No comments  1657500.0  \n",
       "\n",
       "[5 rows x 23 columns]"
      ]
     },
     "execution_count": 35,
     "metadata": {},
     "output_type": "execute_result"
    }
   ],
   "source": [
    "train_data = pd.read_csv('data/Train.csv')\n",
    "train_data.head()"
   ]
  },
  {
   "cell_type": "code",
   "execution_count": 36,
   "id": "95d4cc66",
   "metadata": {},
   "outputs": [
    {
     "data": {
      "text/plain": [
       "(4809, 22)"
      ]
     },
     "execution_count": 36,
     "metadata": {},
     "output_type": "execute_result"
    }
   ],
   "source": [
    "train_data.drop('ID', axis=1, inplace=True)\n",
    "train_data.shape"
   ]
  },
  {
   "cell_type": "code",
   "execution_count": 37,
   "id": "dc7a7509",
   "metadata": {},
   "outputs": [
    {
     "name": "stdout",
     "output_type": "stream",
     "text": [
      "<class 'pandas.core.frame.DataFrame'>\n",
      "RangeIndex: 4809 entries, 0 to 4808\n",
      "Data columns (total 22 columns):\n",
      " #   Column                 Non-Null Count  Dtype  \n",
      "---  ------                 --------------  -----  \n",
      " 0   country                4809 non-null   object \n",
      " 1   age_group              4809 non-null   object \n",
      " 2   travel_with            3695 non-null   object \n",
      " 3   total_female           4806 non-null   float64\n",
      " 4   total_male             4804 non-null   float64\n",
      " 5   purpose                4809 non-null   object \n",
      " 6   main_activity          4809 non-null   object \n",
      " 7   info_source            4809 non-null   object \n",
      " 8   tour_arrangement       4809 non-null   object \n",
      " 9   package_transport_int  4809 non-null   object \n",
      " 10  package_accomodation   4809 non-null   object \n",
      " 11  package_food           4809 non-null   object \n",
      " 12  package_transport_tz   4809 non-null   object \n",
      " 13  package_sightseeing    4809 non-null   object \n",
      " 14  package_guided_tour    4809 non-null   object \n",
      " 15  package_insurance      4809 non-null   object \n",
      " 16  night_mainland         4809 non-null   float64\n",
      " 17  night_zanzibar         4809 non-null   float64\n",
      " 18  payment_mode           4809 non-null   object \n",
      " 19  first_trip_tz          4809 non-null   object \n",
      " 20  most_impressing        4496 non-null   object \n",
      " 21  total_cost             4809 non-null   float64\n",
      "dtypes: float64(5), object(17)\n",
      "memory usage: 826.7+ KB\n"
     ]
    }
   ],
   "source": [
    "train_data.info()"
   ]
  },
  {
   "cell_type": "code",
   "execution_count": 38,
   "id": "58cd3478",
   "metadata": {},
   "outputs": [
    {
     "name": "stdout",
     "output_type": "stream",
     "text": [
      "categorical features: 17, numerical features: 4\n"
     ]
    }
   ],
   "source": [
    "cat_cols = [c for c in train_data.columns if train_data[c].dtype == 'object']\n",
    "num_cols = [c for c in train_data.columns if c not in cat_cols]\n",
    "\n",
    "print(f'categorical features: {len(cat_cols)}, numerical features: {len(num_cols) - 1}')"
   ]
  },
  {
   "cell_type": "code",
   "execution_count": 39,
   "id": "982865a7",
   "metadata": {},
   "outputs": [
    {
     "data": {
      "text/plain": [
       "country                     0\n",
       "age_group                   0\n",
       "travel_with              1114\n",
       "total_female                3\n",
       "total_male                  5\n",
       "purpose                     0\n",
       "main_activity               0\n",
       "info_source                 0\n",
       "tour_arrangement            0\n",
       "package_transport_int       0\n",
       "package_accomodation        0\n",
       "package_food                0\n",
       "package_transport_tz        0\n",
       "package_sightseeing         0\n",
       "package_guided_tour         0\n",
       "package_insurance           0\n",
       "night_mainland              0\n",
       "night_zanzibar              0\n",
       "payment_mode                0\n",
       "first_trip_tz               0\n",
       "most_impressing           313\n",
       "total_cost                  0\n",
       "dtype: int64"
      ]
     },
     "execution_count": 39,
     "metadata": {},
     "output_type": "execute_result"
    }
   ],
   "source": [
    "# sns.pairplot(train_data)\n",
    "train_data.isna().sum()\n"
   ]
  },
  {
   "cell_type": "code",
   "execution_count": 40,
   "id": "ddc127f3",
   "metadata": {},
   "outputs": [],
   "source": [
    "train_data = train_data.dropna(subset=['total_male', 'total_female'])"
   ]
  },
  {
   "cell_type": "code",
   "execution_count": 41,
   "id": "17f7c4a8",
   "metadata": {},
   "outputs": [
    {
     "data": {
      "text/plain": [
       "(4801, 22)"
      ]
     },
     "execution_count": 41,
     "metadata": {},
     "output_type": "execute_result"
    }
   ],
   "source": [
    "train_data.shape"
   ]
  },
  {
   "cell_type": "code",
   "execution_count": 42,
   "id": "55218c14",
   "metadata": {},
   "outputs": [
    {
     "data": {
      "text/plain": [
       "<Axes: xlabel='travel_with', ylabel='count'>"
      ]
     },
     "execution_count": 42,
     "metadata": {},
     "output_type": "execute_result"
    },
    {
     "data": {
      "image/png": "[encoded data removed]",
      "text/plain": [
       "<Figure size 700x400 with 1 Axes>"
      ]
     },
     "metadata": {},
     "output_type": "display_data"
    }
   ],
   "source": [
    "sns.countplot(\n",
    "    data = train_data[ train_data['total_male'] + train_data['total_female'] == 1],\n",
    "    x = 'travel_with'\n",
    ")"
   ]
  },
  {
   "cell_type": "code",
   "execution_count": 43,
   "id": "0313f8da",
   "metadata": {},
   "outputs": [],
   "source": [
    "# put 'Alone' as value for people traveling alone\n",
    "mask = (train_data['total_male'] + train_data['total_female']) == 1\n",
    "train_data.loc[mask, 'travel_with'] = 'Alone'\n",
    "\n",
    "train_data.fillna(subset=['most_impressing'])"
   ]
  },
  {
   "cell_type": "code",
   "execution_count": 49,
   "id": "22322c82",
   "metadata": {},
   "outputs": [
    {
     "data": {
      "text/plain": [
       "country                   0\n",
       "age_group                 0\n",
       "travel_with              28\n",
       "total_female              0\n",
       "total_male                0\n",
       "purpose                   0\n",
       "main_activity             0\n",
       "info_source               0\n",
       "tour_arrangement          0\n",
       "package_transport_int     0\n",
       "package_accomodation      0\n",
       "package_food              0\n",
       "package_transport_tz      0\n",
       "package_sightseeing       0\n",
       "package_guided_tour       0\n",
       "package_insurance         0\n",
       "night_mainland            0\n",
       "night_zanzibar            0\n",
       "payment_mode              0\n",
       "first_trip_tz             0\n",
       "most_impressing           0\n",
       "total_cost                0\n",
       "dtype: int64"
      ]
     },
     "execution_count": 49,
     "metadata": {},
     "output_type": "execute_result"
    }
   ],
   "source": [
    "train_data.isna().sum()"
   ]
  },
  {
   "cell_type": "code",
   "execution_count": 47,
   "id": "230f41a4",
   "metadata": {},
   "outputs": [
    {
     "data": {
      "text/plain": [
       "array(['Friendly People', 'Wonderful Country, Landscape, Nature',\n",
       "       'Excellent Experience', 'No comments', ' Wildlife', nan,\n",
       "       'Good service', 'Satisfies and Hope Come Back'], dtype=object)"
      ]
     },
     "execution_count": 47,
     "metadata": {},
     "output_type": "execute_result"
    }
   ],
   "source": [
    "train_data['most_impressing'].unique()"
   ]
  },
  {
   "cell_type": "code",
   "execution_count": 48,
   "id": "55ab90e1",
   "metadata": {},
   "outputs": [],
   "source": [
    "train_data['most_impressing'] = train_data['most_impressing'].fillna('No comments')"
   ]
  },
  {
   "cell_type": "code",
   "execution_count": 24,
   "id": "b330b6a9",
   "metadata": {},
   "outputs": [
    {
     "data": {
      "image/png": "[encoded data removed]",
      "text/plain": [
       "<Figure size 870x600 with 1 Axes>"
      ]
     },
     "metadata": {},
     "output_type": "display_data"
    }
   ],
   "source": [
    "# prepare missed values map\n",
    "\n",
    "plt.figure(figsize=(8.7, 6))\n",
    "ax = sns.heatmap(\n",
    "    train_data[['travel_with', 'total_female', 'total_male', 'most_impressing']].isnull(),\n",
    "    xticklabels=['travel_with, 23%', 'total_female, <1%', 'total_male, <1%', 'most_impressing, 7%'],\n",
    "    cbar=False,\n",
    "    cmap=Colors.colormap,\n",
    "    yticklabels=False)\n",
    "\n",
    "ax.set_title('Missed values in the train data')\n",
    "ax.set_ylabel('Observations')\n",
    "\n",
    "save_png('pics/nan_values.png')\n",
    "plt.show()\n"
   ]
  },
  {
   "cell_type": "code",
   "execution_count": null,
   "id": "5718f517",
   "metadata": {},
   "outputs": [],
   "source": [
    "from matplotlib.patches import Patch\n",
    "\n",
    "people = train_data[['travel_with', 'total_male', 'total_female']].dropna(axis = 0, how='any')\n",
    "people_alone = people.query('total_male + total_female == 1').dropna(how = 'any')\n",
    "people_not_alone = people.query('total_male + total_female != 1').dropna(how = 'any')\n",
    "\n",
    "order = ['Alone', 'Spouse', 'Friends/Relatives', 'Spouse and Children', 'Children']\n",
    "\n",
    "current_palette = Colors.palette[:len(order)]\n",
    "color_dict = dict(zip(order, current_palette))\n",
    "\n",
    "legend_elements = [Patch(facecolor=color_dict[cat], label=cat) for cat in order]\n",
    "\n",
    "fig, axes = plt.subplots(1, 2, figsize = (16, 6))\n",
    "\n",
    "sns.countplot(\n",
    "    data = people_alone,\n",
    "    x = 'travel_with',\n",
    "    ax = axes[0],\n",
    "    order = order,\n",
    "    palette = color_dict\n",
    ")\n",
    "axes[0].set_title('What people saying, when sum of total_male and female is 1')\n",
    "axes[0].set_ylabel('')\n",
    "axes[0].set_xlabel('')\n",
    "axes[0].set_xticklabels([])\n",
    "axes[0].legend(handles=legend_elements, title=\"\", frameon = False)\n",
    "\n",
    "sns.countplot(\n",
    "    data = people_not_alone,\n",
    "    x = 'travel_with',\n",
    "    ax = axes[1],\n",
    "    order = order,\n",
    "    palette = color_dict\n",
    ")\n",
    "axes[1].set_title('What people saying, when sum of total_male and female is not 1')\n",
    "axes[1].set_ylabel('')\n",
    "axes[1].set_xlabel('')\n",
    "axes[1].set_xticklabels([])\n",
    "axes[1].legend(handles=legend_elements, title=\"\", frameon = False)\n",
    "\n",
    "plt.ylim(top=1350)\n",
    "\n",
    "save_png('pics/people_travel_with.png')\n",
    "plt.show()\n"
   ]
  },
  {
   "cell_type": "markdown",
   "id": "dede7270",
   "metadata": {},
   "source": [
    "What if all the packages just are part of the price? Can I compose them to a feature like 'package'. just kind of their sum. This shoudl correlate with the price"
   ]
  },
  {
   "cell_type": "code",
   "execution_count": null,
   "id": "c43a702b",
   "metadata": {},
   "outputs": [],
   "source": [
    "from sklearn.linear_model import LinearRegression\n",
    "cat_cols = [c for c in train_data.columns if train_data[c].dtype == 'object']\n",
    "num_cols = [c for c in train_data.columns if c not in cat_cols]\n",
    "\n",
    "def get_categorical_corellation(data: pd.DataFrame, col: str, target: str) -> float:\n",
    "    dummies = pd.get_dummies(data[col], drop_first=True)\n",
    "    X = dummies\n",
    "    y = data[target]\n",
    "\n",
    "    model = LinearRegression().fit(X, y)\n",
    "    y_pred = model.predict(X)\n",
    "    correlation = y.corr(pd.Series(y_pred))\n",
    "    return correlation\n",
    "\n",
    "# keep here corellations for all the features (name, value)\n",
    "corrs = []\n",
    "for col in cat_cols:\n",
    "    corrs.append((col, get_categorical_corellation(train_data, col, \"total_cost\").round(2)))\n",
    "\n",
    "print(cat_cols)\n",
    "print(num_cols)\n"
   ]
  },
  {
   "cell_type": "code",
   "execution_count": null,
   "id": "0d861be4",
   "metadata": {},
   "outputs": [],
   "source": [
    "package_cols = [\n",
    "    'package_accomodation',\n",
    "    'package_transport_int',\n",
    "    'package_food',\n",
    "    'package_transport_tz',\n",
    "    'package_sightseeing',\n",
    "    'package_guided_tour',\n",
    "    'package_insurance'\n",
    "]\n",
    "\n",
    "def count_packages(row: pd.Series):\n",
    "    val = 0\n",
    "    for col in package_cols:\n",
    "        val += (1 if row[col] == 'Yes' else 0)\n",
    "    return val\n",
    "\n",
    "def count_weigthed_packages(row: pd.Series, correlations: list) -> pd.DataFrame:\n",
    "    val = 0\n",
    "    for col in package_cols:\n",
    "        cor = next((corr for corr in correlations if corr[0] == col), None)[1]\n",
    "        val += cor * (1 if row[col] == 'Yes' else 0)\n",
    "    return val\n",
    "\n",
    "train_data['package'] = train_data.apply(count_packages, axis = 1)\n",
    "train_data['package_weighted'] = train_data.apply(lambda row: count_weigthed_packages(row, corrs), axis = 1)\n",
    "\n",
    "num_cols.extend(['package', 'package_weighted'])\n",
    "\n",
    "train_data"
   ]
  },
  {
   "cell_type": "code",
   "execution_count": null,
   "id": "74589ba3",
   "metadata": {},
   "outputs": [],
   "source": [
    "# collect all the corellations for all the \n",
    "\n",
    "num_cors = train_data[num_cols].corr()['total_cost']\n",
    "\n",
    "for col in num_cors.index:\n",
    "    if col != 'total_cost':\n",
    "        corrs.append((col, num_cors[col].round(2)))\n"
   ]
  },
  {
   "cell_type": "code",
   "execution_count": null,
   "id": "ecfbf9aa",
   "metadata": {},
   "outputs": [],
   "source": [
    "# sort correlations\n",
    "sorted_corellations = sorted(corrs, key = lambda x: x[1], reverse=True )\n",
    "for c in sorted_corellations:\n",
    "    print(f'corellation total_cost to {c[0]} : {c[1]}')\n",
    "\n",
    "len(sorted_corellations)\n"
   ]
  },
  {
   "cell_type": "code",
   "execution_count": null,
   "id": "fbd6df3d",
   "metadata": {},
   "outputs": [],
   "source": [
    "series_x = [pair[0] for pair in sorted_corellations]\n",
    "series_y = [pair[1] for pair in sorted_corellations]\n",
    "\n",
    "plt.figure(figsize=(12, 6))\n",
    "ax = sns.lineplot(\n",
    "    x = series_x, y = series_y\n",
    ")\n",
    "ax.set_title('Features corellation to \"total_cost\" target')\n",
    "ax.set_ylabel('corellation')\n",
    "plt.xticks(rotation=75)\n",
    "\n",
    "save_png('pics/feature_corellation.png')\n",
    "\n",
    "plt.show()"
   ]
  }
 ],
 "metadata": {
  "kernelspec": {
   "display_name": ".venv",
   "language": "python",
   "name": "python3"
  },
  "language_info": {
   "codemirror_mode": {
    "name": "ipython",
    "version": 3
   },
   "file_extension": ".py",
   "mimetype": "text/x-python",
   "name": "python",
   "nbconvert_exporter": "python",
   "pygments_lexer": "ipython3",
   "version": "3.13.2"
  }
 },
 "nbformat": 4,
 "nbformat_minor": 5
}
